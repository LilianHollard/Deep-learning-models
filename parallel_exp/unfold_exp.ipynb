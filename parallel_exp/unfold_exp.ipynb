{
 "cells": [
  {
   "cell_type": "code",
   "execution_count": 1,
   "id": "44734b74",
   "metadata": {},
   "outputs": [],
   "source": [
    "import torch\n",
    "import onnx\n",
    "from torch.profiler import profile, record_function, ProfilerActivity\n",
    "from CSPDarknet_YOLOv5_final import batch_CSPDarknet, CSPDarknet"
   ]
  },
  {
   "cell_type": "code",
   "execution_count": 2,
   "id": "f1288a82",
   "metadata": {},
   "outputs": [],
   "source": [
    "a = torch.randn(1, 3, 64, 64)"
   ]
  },
  {
   "cell_type": "code",
   "execution_count": 3,
   "id": "99f8389c",
   "metadata": {},
   "outputs": [
    {
     "data": {
      "text/plain": [
       "torch.Size([1, 3, 4, 4, 16, 16])"
      ]
     },
     "execution_count": 3,
     "metadata": {},
     "output_type": "execute_result"
    }
   ],
   "source": [
    "b = a.unfold(2, 16, 16).unfold(3, 16, 16)\n",
    "b.shape"
   ]
  },
  {
   "cell_type": "code",
   "execution_count": 4,
   "id": "50d7c4d2",
   "metadata": {},
   "outputs": [],
   "source": [
    "b = b.contiguous().view(-1, 3, 16, 16)"
   ]
  },
  {
   "cell_type": "code",
   "execution_count": 5,
   "id": "12988865",
   "metadata": {},
   "outputs": [
    {
     "name": "stdout",
     "output_type": "stream",
     "text": [
      "torch.Size([1, 3, 16, 16])\n",
      "torch.Size([1, 3, 16, 16])\n",
      "torch.Size([1, 3, 16, 16])\n",
      "torch.Size([1, 3, 16, 16])\n",
      "torch.Size([1, 3, 16, 16])\n",
      "torch.Size([1, 3, 16, 16])\n",
      "torch.Size([1, 3, 16, 16])\n",
      "torch.Size([1, 3, 16, 16])\n",
      "torch.Size([1, 3, 16, 16])\n",
      "torch.Size([1, 3, 16, 16])\n",
      "torch.Size([1, 3, 16, 16])\n",
      "torch.Size([1, 3, 16, 16])\n",
      "torch.Size([1, 3, 16, 16])\n",
      "torch.Size([1, 3, 16, 16])\n",
      "torch.Size([1, 3, 16, 16])\n",
      "torch.Size([1, 3, 16, 16])\n"
     ]
    }
   ],
   "source": [
    "for batch in b:\n",
    "    batch = batch.unsqueeze(0)\n",
    "    print(batch.shape)"
   ]
  },
  {
   "cell_type": "code",
   "execution_count": 6,
   "id": "fa14b330",
   "metadata": {},
   "outputs": [],
   "source": [
    "csp = batch_CSPDarknet().eval()\n",
    "dummy = torch.randn(1, 3, 64, 64)\n",
    "out = csp(dummy)"
   ]
  },
  {
   "cell_type": "code",
   "execution_count": 7,
   "id": "b440a8ca",
   "metadata": {},
   "outputs": [
    {
     "data": {
      "text/plain": [
       "torch.Size([1, 3])"
      ]
     },
     "execution_count": 7,
     "metadata": {},
     "output_type": "execute_result"
    }
   ],
   "source": [
    "out.shape"
   ]
  },
  {
   "cell_type": "code",
   "execution_count": 8,
   "id": "5d76c605",
   "metadata": {},
   "outputs": [],
   "source": [
    "csp = CSPDarknet(3, 16).eval()\n",
    "dummy = torch.randn(1, 3, 64, 64)\n",
    "csp.train()\n",
    "csp(dummy)\n",
    "csp(dummy)\n",
    "csp.eval()\n",
    "torch.onnx.export(csp, dummy, \"csp.onnx\", export_params=True, do_constant_folding=True)"
   ]
  },
  {
   "cell_type": "code",
   "execution_count": 9,
   "id": "69f7d3b4",
   "metadata": {},
   "outputs": [],
   "source": [
    "csp = batch_CSPDarknet().eval()"
   ]
  },
  {
   "cell_type": "code",
   "execution_count": 10,
   "id": "508a880a",
   "metadata": {},
   "outputs": [
    {
     "name": "stderr",
     "output_type": "stream",
     "text": [
      "STAGE:2023-04-28 10:21:26 2718685:2718685 ActivityProfilerController.cpp:294] Completed Stage: Warm Up\n",
      "STAGE:2023-04-28 10:21:26 2718685:2718685 ActivityProfilerController.cpp:300] Completed Stage: Collection\n"
     ]
    },
    {
     "name": "stdout",
     "output_type": "stream",
     "text": [
      "--------------------------------  ------------  ------------  ------------  ------------  ------------  ------------  ------------  ------------  \n",
      "                            Name    Self CPU %      Self CPU   CPU total %     CPU total  CPU time avg       CPU Mem  Self CPU Mem    # of Calls  \n",
      "--------------------------------  ------------  ------------  ------------  ------------  ------------  ------------  ------------  ------------  \n",
      "                     aten::empty         1.20%       4.488ms         1.20%       4.488ms       1.657us       1.05 Mb       1.05 Mb          2708  \n",
      "                aten::empty_like         0.31%       1.169ms         0.57%       2.131ms       5.775us     360.00 Kb         256 b           369  \n",
      "                    aten::conv2d         0.54%       1.995ms        81.05%     301.925ms     820.448us     312.00 Kb           0 b           368  \n",
      "               aten::convolution         1.40%       5.226ms        80.52%     299.930ms     815.027us     312.00 Kb      -1.00 Kb           368  \n",
      "              aten::_convolution         1.09%       4.067ms        79.10%     294.653ms     800.688us     312.00 Kb         768 b           368  \n",
      "                aten::batch_norm         0.38%       1.406ms         6.25%      23.278ms      63.255us     312.00 Kb           0 b           368  \n",
      "    aten::_batch_norm_impl_index         0.77%       2.852ms         5.87%      21.872ms      59.435us     312.00 Kb           0 b           368  \n",
      "         aten::native_batch_norm         3.90%      14.529ms         4.89%      18.211ms      49.486us     312.00 Kb    -214.88 Kb           368  \n",
      "                      aten::silu         1.18%       4.380ms         1.18%       4.380ms      11.902us     312.00 Kb     312.00 Kb           368  \n",
      "               aten::thnn_conv2d         0.35%       1.310ms        46.62%     173.676ms     493.398us     248.00 Kb         256 b           352  \n",
      "      aten::_slow_conv2d_forward        44.25%     164.833ms        46.28%     172.411ms     489.804us     248.00 Kb    -369.50 Kb           352  \n",
      "                   aten::resize_         0.25%     931.000us         0.25%     931.000us       2.645us     185.50 Kb     185.50 Kb           352  \n",
      "        aten::mkldnn_convolution        31.28%     116.514ms        31.39%     116.912ms       7.307ms      64.00 Kb           0 b            16  \n",
      "                       aten::add         0.27%       1.002ms         0.27%       1.002ms       8.946us      52.00 Kb      52.00 Kb           112  \n",
      "                aten::contiguous         0.00%       4.000us         0.02%      76.000us      76.000us      48.00 Kb           0 b             1  \n",
      "                     aten::clone         0.00%      16.000us         0.02%      72.000us      72.000us      48.00 Kb           0 b             1  \n",
      "                     aten::randn         0.00%      11.000us         0.01%      26.000us      26.000us          12 b           0 b             1  \n",
      "                     aten::zeros         0.01%      34.000us         0.02%      77.000us      77.000us           4 b           0 b             1  \n",
      "                     aten::zero_         0.00%       1.000us         0.00%       1.000us       1.000us           0 b           0 b             1  \n",
      "                    aten::unfold         0.01%      23.000us         0.01%      33.000us      16.500us           0 b           0 b             2  \n",
      "                aten::as_strided         0.02%      60.000us         0.02%      60.000us       1.765us           0 b           0 b            34  \n",
      "                     aten::copy_         0.63%       2.333ms         0.63%       2.333ms       6.609us           0 b           0 b           353  \n",
      "                      aten::view         0.19%     718.000us         0.19%     718.000us       1.211us           0 b           0 b           593  \n",
      "                   aten::normal_         0.00%      12.000us         0.00%      12.000us      12.000us           0 b           0 b             1  \n",
      "                    aten::unbind         0.02%      71.000us         0.03%     118.000us     118.000us           0 b           0 b             1  \n",
      "                    aten::select         0.01%      40.000us         0.01%      47.000us       2.938us           0 b           0 b            16  \n",
      "                 aten::unsqueeze         0.04%     156.000us         0.05%     199.000us      12.438us           0 b           0 b            16  \n",
      "               aten::as_strided_         0.01%      51.000us         0.01%      51.000us       3.188us           0 b           0 b            16  \n",
      "         aten::_nnpack_available         0.00%       4.000us         0.00%       4.000us       0.011us           0 b           0 b           352  \n",
      "                   aten::reshape         0.57%       2.120ms         0.67%       2.501ms       7.105us           0 b           0 b           352  \n",
      "            aten::_reshape_alias         0.10%     390.000us         0.10%     390.000us       1.108us           0 b           0 b           352  \n",
      "                    aten::detach         0.10%     379.000us         0.10%     379.000us       1.579us           0 b           0 b           240  \n",
      "                 model_inference        11.11%      41.383ms        99.98%     372.431ms     372.431ms          -4 b      -1.01 Mb             1  \n",
      "--------------------------------  ------------  ------------  ------------  ------------  ------------  ------------  ------------  ------------  \n",
      "Self CPU time total: 372.508ms\n",
      "\n"
     ]
    }
   ],
   "source": [
    "dummy = torch.randn(1, 3, 64, 64)#.to(\"cuda:1\")\n",
    "\n",
    "with profile(activities=[ProfilerActivity.CPU], record_shapes=True, profile_memory=True) as prof:\n",
    "    with record_function(\"model_inference\"):\n",
    "        csp(dummy)\n",
    "\n",
    "print(prof.key_averages().table(sort_by=\"cpu_memory_usage\"))"
   ]
  },
  {
   "cell_type": "code",
   "execution_count": 11,
   "id": "a9eaeabb",
   "metadata": {},
   "outputs": [
    {
     "name": "stdout",
     "output_type": "stream",
     "text": [
      "--------------------------------  ------------  ------------  ------------  ------------  ------------  ------------  ------------  ------------  --------------------------------------------------------------------------------  \n",
      "                            Name    Self CPU %      Self CPU   CPU total %     CPU total  CPU time avg       CPU Mem  Self CPU Mem    # of Calls                                                                      Input Shapes  \n",
      "--------------------------------  ------------  ------------  ------------  ------------  ------------  ------------  ------------  ------------  --------------------------------------------------------------------------------  \n",
      "                     aten::zeros         0.01%      34.000us         0.02%      77.000us      77.000us           4 b           0 b             1                                                              [[], [], [], [], []]  \n",
      "                     aten::empty         0.01%      42.000us         0.01%      42.000us      42.000us           4 b           4 b             1                                                          [[], [], [], [], [], []]  \n",
      "                     aten::zero_         0.00%       1.000us         0.00%       1.000us       1.000us           0 b           0 b             1                                                                             [[1]]  \n",
      "                 model_inference        11.11%      41.383ms        99.98%     372.431ms     372.431ms          -4 b      -1.01 Mb             1                                                                                []  \n",
      "                     aten::empty         0.00%       3.000us         0.00%       3.000us       3.000us         264 b         264 b             1                                                          [[], [], [], [], [], []]  \n",
      "                    aten::unfold         0.00%      16.000us         0.01%      24.000us      24.000us           0 b           0 b             1                                                      [[1, 3, 64, 64], [], [], []]  \n",
      "                aten::as_strided         0.00%       8.000us         0.00%       8.000us       8.000us           0 b           0 b             1                                                      [[1, 3, 64, 64], [], [], []]  \n",
      "                    aten::unfold         0.00%       7.000us         0.00%       9.000us       9.000us           0 b           0 b             1                                                   [[1, 3, 4, 64, 16], [], [], []]  \n",
      "                aten::as_strided         0.00%       2.000us         0.00%       2.000us       2.000us           0 b           0 b             1                                                   [[1, 3, 4, 64, 16], [], [], []]  \n",
      "                aten::contiguous         0.00%       4.000us         0.02%      76.000us      76.000us      48.00 Kb           0 b             1                                                        [[1, 3, 4, 4, 16, 16], []]  \n",
      "                     aten::clone         0.00%      16.000us         0.02%      72.000us      72.000us      48.00 Kb           0 b             1                                                        [[1, 3, 4, 4, 16, 16], []]  \n",
      "                aten::empty_like         0.00%       6.000us         0.00%      14.000us      14.000us      48.00 Kb           0 b             1                                        [[1, 3, 4, 4, 16, 16], [], [], [], [], []]  \n",
      "                     aten::empty         0.00%       8.000us         0.00%       8.000us       8.000us      48.00 Kb      48.00 Kb             1                                                          [[], [], [], [], [], []]  \n",
      "                     aten::copy_         0.01%      42.000us         0.01%      42.000us      42.000us           0 b           0 b             1                                  [[1, 3, 4, 4, 16, 16], [1, 3, 4, 4, 16, 16], []]  \n",
      "                      aten::view         0.00%       8.000us         0.00%       8.000us       8.000us           0 b           0 b             1                                                        [[1, 3, 4, 4, 16, 16], []]  \n",
      "                     aten::randn         0.00%      11.000us         0.01%      26.000us      26.000us          12 b           0 b             1                                                              [[], [], [], [], []]  \n",
      "                     aten::empty         0.00%       3.000us         0.00%       3.000us       3.000us          12 b          12 b             1                                                          [[], [], [], [], [], []]  \n",
      "                   aten::normal_         0.00%      12.000us         0.00%      12.000us      12.000us           0 b           0 b             1                                                              [[1, 3], [], [], []]  \n",
      "                    aten::unbind         0.02%      71.000us         0.03%     118.000us     118.000us           0 b           0 b             1                                                             [[16, 3, 16, 16], []]  \n",
      "                    aten::select         0.00%       7.000us         0.00%       8.000us       8.000us           0 b           0 b             1                                                         [[16, 3, 16, 16], [], []]  \n",
      "                aten::as_strided         0.00%       1.000us         0.00%       1.000us       1.000us           0 b           0 b             1                                                     [[16, 3, 16, 16], [], [], []]  \n",
      "                    aten::select         0.00%       1.000us         0.00%       2.000us       2.000us           0 b           0 b             1                                                         [[16, 3, 16, 16], [], []]  \n",
      "                aten::as_strided         0.00%       1.000us         0.00%       1.000us       1.000us           0 b           0 b             1                                                     [[16, 3, 16, 16], [], [], []]  \n",
      "                    aten::select         0.00%       1.000us         0.00%       2.000us       2.000us           0 b           0 b             1                                                         [[16, 3, 16, 16], [], []]  \n",
      "                aten::as_strided         0.00%       1.000us         0.00%       1.000us       1.000us           0 b           0 b             1                                                     [[16, 3, 16, 16], [], [], []]  \n",
      "                    aten::select         0.00%       1.000us         0.00%       1.000us       1.000us           0 b           0 b             1                                                         [[16, 3, 16, 16], [], []]  \n",
      "                aten::as_strided         0.00%       0.000us         0.00%       0.000us       0.000us           0 b           0 b             1                                                     [[16, 3, 16, 16], [], [], []]  \n",
      "                    aten::select         0.00%      17.000us         0.00%      17.000us      17.000us           0 b           0 b             1                                                         [[16, 3, 16, 16], [], []]  \n",
      "                aten::as_strided         0.00%       0.000us         0.00%       0.000us       0.000us           0 b           0 b             1                                                     [[16, 3, 16, 16], [], [], []]  \n",
      "                    aten::select         0.00%       1.000us         0.00%       2.000us       2.000us           0 b           0 b             1                                                         [[16, 3, 16, 16], [], []]  \n",
      "                aten::as_strided         0.00%       1.000us         0.00%       1.000us       1.000us           0 b           0 b             1                                                     [[16, 3, 16, 16], [], [], []]  \n",
      "                    aten::select         0.00%       2.000us         0.00%       2.000us       2.000us           0 b           0 b             1                                                         [[16, 3, 16, 16], [], []]  \n",
      "                aten::as_strided         0.00%       0.000us         0.00%       0.000us       0.000us           0 b           0 b             1                                                     [[16, 3, 16, 16], [], [], []]  \n",
      "                    aten::select         0.00%       1.000us         0.00%       1.000us       1.000us           0 b           0 b             1                                                         [[16, 3, 16, 16], [], []]  \n",
      "                aten::as_strided         0.00%       0.000us         0.00%       0.000us       0.000us           0 b           0 b             1                                                     [[16, 3, 16, 16], [], [], []]  \n",
      "                    aten::select         0.00%       2.000us         0.00%       2.000us       2.000us           0 b           0 b             1                                                         [[16, 3, 16, 16], [], []]  \n",
      "                aten::as_strided         0.00%       0.000us         0.00%       0.000us       0.000us           0 b           0 b             1                                                     [[16, 3, 16, 16], [], [], []]  \n",
      "                    aten::select         0.00%       1.000us         0.00%       2.000us       2.000us           0 b           0 b             1                                                         [[16, 3, 16, 16], [], []]  \n",
      "                aten::as_strided         0.00%       1.000us         0.00%       1.000us       1.000us           0 b           0 b             1                                                     [[16, 3, 16, 16], [], [], []]  \n",
      "                    aten::select         0.00%       1.000us         0.00%       1.000us       1.000us           0 b           0 b             1                                                         [[16, 3, 16, 16], [], []]  \n",
      "                aten::as_strided         0.00%       0.000us         0.00%       0.000us       0.000us           0 b           0 b             1                                                     [[16, 3, 16, 16], [], [], []]  \n",
      "                    aten::select         0.00%       1.000us         0.00%       1.000us       1.000us           0 b           0 b             1                                                         [[16, 3, 16, 16], [], []]  \n",
      "                aten::as_strided         0.00%       0.000us         0.00%       0.000us       0.000us           0 b           0 b             1                                                     [[16, 3, 16, 16], [], [], []]  \n",
      "                    aten::select         0.00%       1.000us         0.00%       2.000us       2.000us           0 b           0 b             1                                                         [[16, 3, 16, 16], [], []]  \n",
      "                aten::as_strided         0.00%       1.000us         0.00%       1.000us       1.000us           0 b           0 b             1                                                     [[16, 3, 16, 16], [], [], []]  \n",
      "                    aten::select         0.00%       1.000us         0.00%       1.000us       1.000us           0 b           0 b             1                                                         [[16, 3, 16, 16], [], []]  \n",
      "                aten::as_strided         0.00%       0.000us         0.00%       0.000us       0.000us           0 b           0 b             1                                                     [[16, 3, 16, 16], [], [], []]  \n",
      "                    aten::select         0.00%       1.000us         0.00%       1.000us       1.000us           0 b           0 b             1                                                         [[16, 3, 16, 16], [], []]  \n",
      "                aten::as_strided         0.00%       0.000us         0.00%       0.000us       0.000us           0 b           0 b             1                                                     [[16, 3, 16, 16], [], [], []]  \n",
      "                    aten::select         0.00%       1.000us         0.00%       2.000us       2.000us           0 b           0 b             1                                                         [[16, 3, 16, 16], [], []]  \n",
      "                aten::as_strided         0.00%       1.000us         0.00%       1.000us       1.000us           0 b           0 b             1                                                     [[16, 3, 16, 16], [], [], []]  \n",
      "                 aten::unsqueeze         0.00%       6.000us         0.00%       7.000us       7.000us           0 b           0 b             1                                                                 [[3, 16, 16], []]  \n",
      "                aten::as_strided         0.00%       1.000us         0.00%       1.000us       1.000us           0 b           0 b             1                                                         [[3, 16, 16], [], [], []]  \n",
      "                    aten::conv2d         0.01%      24.000us         1.38%       5.143ms       5.143ms       4.00 Kb           0 b             1                             [[1, 3, 16, 16], [16, 3, 6, 6], [16], [], [], [], []]  \n",
      "               aten::convolution         0.01%      37.000us         1.37%       5.119ms       5.119ms       4.00 Kb           0 b             1                     [[1, 3, 16, 16], [16, 3, 6, 6], [16], [], [], [], [], [], []]  \n",
      "              aten::_convolution         0.00%      15.000us         1.36%       5.082ms       5.082ms       4.00 Kb           0 b             1     [[1, 3, 16, 16], [16, 3, 6, 6], [16], [], [], [], [], [], [], [], [], [], []]  \n",
      "        aten::mkldnn_convolution         1.34%       4.975ms         1.36%       5.067ms       5.067ms       4.00 Kb           0 b             1                             [[1, 3, 16, 16], [16, 3, 6, 6], [16], [], [], [], []]  \n",
      "                     aten::empty         0.00%       8.000us         0.00%       8.000us       8.000us           0 b           0 b             1                                                          [[], [], [], [], [], []]  \n",
      "                     aten::empty         0.02%      79.000us         0.02%      79.000us      79.000us       4.00 Kb       4.00 Kb             1                                                          [[], [], [], [], [], []]  \n",
      "               aten::as_strided_         0.00%       5.000us         0.00%       5.000us       5.000us           0 b           0 b             1                                                       [[1, 16, 8, 8], [], [], []]  \n",
      "                aten::batch_norm         0.00%       7.000us         0.03%     119.000us     119.000us       4.00 Kb           0 b             1                           [[1, 16, 8, 8], [16], [16], [16], [16], [], [], [], []]  \n",
      "    aten::_batch_norm_impl_index         0.00%      12.000us         0.03%     112.000us     112.000us       4.00 Kb           0 b             1                           [[1, 16, 8, 8], [16], [16], [16], [16], [], [], [], []]  \n",
      "                     aten::empty         0.00%       3.000us         0.00%       3.000us       3.000us           0 b           0 b             1                                                          [[], [], [], [], [], []]  \n",
      "         aten::native_batch_norm         0.02%      71.000us         0.03%      97.000us      97.000us       4.00 Kb        -128 b             1                               [[1, 16, 8, 8], [16], [16], [16], [16], [], [], []]  \n",
      "                     aten::empty         0.00%       0.000us         0.00%       0.000us       0.000us           0 b           0 b             1                                                          [[], [], [], [], [], []]  \n",
      "                     aten::empty         0.00%       1.000us         0.00%       1.000us       1.000us           0 b           0 b             1                                                          [[], [], [], [], [], []]  \n",
      "                aten::empty_like         0.01%      19.000us         0.01%      22.000us      22.000us       4.00 Kb           0 b             1                                               [[1, 16, 8, 8], [], [], [], [], []]  \n",
      "                     aten::empty         0.00%       3.000us         0.00%       3.000us       3.000us       4.00 Kb       4.00 Kb             1                                                          [[], [], [], [], [], []]  \n",
      "                     aten::empty         0.00%       2.000us         0.00%       2.000us       2.000us          64 b          64 b             1                                                          [[], [], [], [], [], []]  \n",
      "                     aten::empty         0.00%       1.000us         0.00%       1.000us       1.000us          64 b          64 b             1                                                          [[], [], [], [], [], []]  \n",
      "                      aten::silu         0.01%      43.000us         0.01%      43.000us      43.000us       4.00 Kb       4.00 Kb             1                                                                   [[1, 16, 8, 8]]  \n",
      "                    aten::conv2d         0.00%       7.000us         0.07%     252.000us     252.000us       2.00 Kb           0 b             1                             [[1, 16, 8, 8], [32, 16, 3, 3], [32], [], [], [], []]  \n",
      "               aten::convolution         0.00%      14.000us         0.07%     245.000us     245.000us       2.00 Kb           0 b             1                     [[1, 16, 8, 8], [32, 16, 3, 3], [32], [], [], [], [], [], []]  \n",
      "              aten::_convolution         0.02%      57.000us         0.06%     231.000us     231.000us       2.00 Kb           0 b             1     [[1, 16, 8, 8], [32, 16, 3, 3], [32], [], [], [], [], [], [], [], [], [], []]  \n",
      "         aten::_nnpack_available         0.00%       0.000us         0.00%       0.000us       0.000us           0 b           0 b             1                                                                                []  \n",
      "               aten::thnn_conv2d         0.01%      22.000us         0.05%     174.000us     174.000us       2.00 Kb           0 b             1                                 [[1, 16, 8, 8], [32, 16, 3, 3], [], [32], [], []]  \n",
      "      aten::_slow_conv2d_forward         0.03%      99.000us         0.04%     152.000us     152.000us       2.00 Kb      -9.00 Kb             1                                 [[1, 16, 8, 8], [32, 16, 3, 3], [], [32], [], []]  \n",
      "                     aten::empty         0.00%       2.000us         0.00%       2.000us       2.000us           0 b           0 b             1                                                          [[], [], [], [], [], []]  \n",
      "                      aten::view         0.00%       5.000us         0.00%       5.000us       5.000us           0 b           0 b             1                                                              [[32, 16, 3, 3], []]  \n",
      "                     aten::empty         0.00%       3.000us         0.00%       3.000us       3.000us       9.00 Kb       9.00 Kb             1                                                          [[], [], [], [], [], []]  \n",
      "                   aten::resize_         0.00%       5.000us         0.00%       5.000us       5.000us       2.00 Kb       2.00 Kb             1                                                                     [[0], [], []]  \n",
      "                   aten::reshape         0.01%      19.000us         0.01%      21.000us      21.000us           0 b           0 b             1                                                                        [[32], []]  \n",
      "            aten::_reshape_alias         0.00%       2.000us         0.00%       2.000us       2.000us           0 b           0 b             1                                                                    [[32], [], []]  \n",
      "                     aten::copy_         0.00%      17.000us         0.00%      17.000us      17.000us           0 b           0 b             1                                                   [[1, 32, 4, 4], [32, 1, 1], []]  \n",
      "                aten::batch_norm         0.00%       4.000us         0.02%      66.000us      66.000us       2.00 Kb           0 b             1                           [[1, 32, 4, 4], [32], [32], [32], [32], [], [], [], []]  \n",
      "    aten::_batch_norm_impl_index         0.00%       8.000us         0.02%      62.000us      62.000us       2.00 Kb           0 b             1                           [[1, 32, 4, 4], [32], [32], [32], [32], [], [], [], []]  \n",
      "                     aten::empty         0.00%       2.000us         0.00%       2.000us       2.000us           0 b           0 b             1                                                          [[], [], [], [], [], []]  \n",
      "         aten::native_batch_norm         0.01%      41.000us         0.01%      52.000us      52.000us       2.00 Kb        -256 b             1                               [[1, 32, 4, 4], [32], [32], [32], [32], [], [], []]  \n",
      "                     aten::empty         0.00%       0.000us         0.00%       0.000us       0.000us           0 b           0 b             1                                                          [[], [], [], [], [], []]  \n",
      "                     aten::empty         0.00%       1.000us         0.00%       1.000us       1.000us           0 b           0 b             1                                                          [[], [], [], [], [], []]  \n",
      "                aten::empty_like         0.00%       4.000us         0.00%       7.000us       7.000us       2.00 Kb           0 b             1                                               [[1, 32, 4, 4], [], [], [], [], []]  \n",
      "                     aten::empty         0.00%       3.000us         0.00%       3.000us       3.000us       2.00 Kb       2.00 Kb             1                                                          [[], [], [], [], [], []]  \n",
      "                     aten::empty         0.00%       2.000us         0.00%       2.000us       2.000us         128 b         128 b             1                                                          [[], [], [], [], [], []]  \n",
      "                     aten::empty         0.00%       1.000us         0.00%       1.000us       1.000us         128 b         128 b             1                                                          [[], [], [], [], [], []]  \n",
      "                      aten::silu         0.00%      15.000us         0.00%      15.000us      15.000us       2.00 Kb       2.00 Kb             1                                                                   [[1, 32, 4, 4]]  \n",
      "                    aten::conv2d         0.00%       5.000us         0.03%      98.000us      98.000us       1.00 Kb           0 b             1                             [[1, 32, 4, 4], [16, 32, 1, 1], [16], [], [], [], []]  \n",
      "               aten::convolution         0.00%      14.000us         0.02%      93.000us      93.000us       1.00 Kb           0 b             1                     [[1, 32, 4, 4], [16, 32, 1, 1], [16], [], [], [], [], [], []]  \n",
      "              aten::_convolution         0.01%      23.000us         0.02%      79.000us      79.000us       1.00 Kb           0 b             1     [[1, 32, 4, 4], [16, 32, 1, 1], [16], [], [], [], [], [], [], [], [], [], []]  \n",
      "         aten::_nnpack_available         0.00%       0.000us         0.00%       0.000us       0.000us           0 b           0 b             1                                                                                []  \n",
      "               aten::thnn_conv2d         0.00%       3.000us         0.02%      56.000us      56.000us       1.00 Kb           0 b             1                                 [[1, 32, 4, 4], [16, 32, 1, 1], [], [16], [], []]  \n",
      "--------------------------------  ------------  ------------  ------------  ------------  ------------  ------------  ------------  ------------  --------------------------------------------------------------------------------  \n",
      "Self CPU time total: 372.508ms\n",
      "\n"
     ]
    }
   ],
   "source": [
    "print(prof.events().table())"
   ]
  },
  {
   "cell_type": "code",
   "execution_count": 12,
   "id": "16c34831",
   "metadata": {},
   "outputs": [],
   "source": [
    "from CSPDarknet_YOLOv5_final import CSPDarknet"
   ]
  },
  {
   "cell_type": "code",
   "execution_count": 14,
   "id": "59eb8d95",
   "metadata": {},
   "outputs": [
    {
     "name": "stdout",
     "output_type": "stream",
     "text": [
      "--------------------------------  ------------  ------------  ------------  ------------  ------------  ------------  ------------  ------------  \n",
      "                            Name    Self CPU %      Self CPU   CPU total %     CPU total  CPU time avg       CPU Mem  Self CPU Mem    # of Calls  \n",
      "--------------------------------  ------------  ------------  ------------  ------------  ------------  ------------  ------------  ------------  \n",
      "                     aten::empty         3.48%     397.000us         3.48%     397.000us       1.829us     795.26 Kb     795.26 Kb           217  \n",
      "                aten::batch_norm         0.70%      80.000us        21.18%       2.413ms     104.913us     289.88 Kb           0 b            23  \n",
      "    aten::_batch_norm_impl_index         1.48%     169.000us        20.48%       2.333ms     101.435us     289.88 Kb           0 b            23  \n",
      "         aten::native_batch_norm        15.47%       1.762ms        18.75%       2.136ms      92.870us     289.88 Kb     -27.12 Kb            23  \n",
      "                    aten::conv2d         1.04%     118.000us        47.67%       5.430ms     236.087us     276.00 Kb           0 b            23  \n",
      "               aten::convolution         2.72%     310.000us        46.63%       5.312ms     230.957us     276.00 Kb           0 b            23  \n",
      "              aten::_convolution         2.26%     257.000us        43.91%       5.002ms     217.478us     276.00 Kb           0 b            23  \n",
      "                aten::empty_like         0.66%      75.000us         1.24%     141.000us       6.130us     276.00 Kb           0 b            23  \n",
      "                      aten::silu         4.20%     478.000us         4.20%     478.000us      20.783us     276.00 Kb     276.00 Kb            23  \n",
      "               aten::thnn_conv2d         0.67%      76.000us        15.84%       1.804ms      82.000us     212.00 Kb           0 b            22  \n",
      "      aten::_slow_conv2d_forward        10.76%       1.226ms        15.17%       1.728ms      78.545us     212.00 Kb    -324.00 Kb            22  \n",
      "                   aten::resize_         0.51%      58.000us         0.51%      58.000us       2.636us     122.00 Kb     122.00 Kb            22  \n",
      "        aten::mkldnn_convolution        25.69%       2.927ms        25.81%       2.940ms       2.940ms      64.00 Kb           0 b             1  \n",
      "                       aten::add         0.58%      66.000us         0.58%      66.000us       9.429us      46.00 Kb      46.00 Kb             7  \n",
      "                     aten::zeros         0.15%      17.000us         0.23%      26.000us      26.000us           4 b           0 b             1  \n",
      "                     aten::zero_         0.00%       0.000us         0.00%       0.000us       0.000us           0 b           0 b             1  \n",
      "               aten::as_strided_         0.04%       4.000us         0.04%       4.000us       4.000us           0 b           0 b             1  \n",
      "                      aten::add_         1.27%     145.000us         1.27%     145.000us       6.304us           0 b           0 b            23  \n",
      "         aten::_nnpack_available         0.01%       1.000us         0.01%       1.000us       0.045us           0 b           0 b            22  \n",
      "                      aten::view         0.40%      46.000us         0.40%      46.000us       1.243us           0 b           0 b            37  \n",
      "                   aten::reshape         1.11%     126.000us         1.31%     149.000us       6.773us           0 b           0 b            22  \n",
      "            aten::_reshape_alias         0.21%      24.000us         0.21%      24.000us       1.091us           0 b           0 b            22  \n",
      "                     aten::copy_         1.47%     167.000us         1.47%     167.000us       7.591us           0 b           0 b            22  \n",
      "                    aten::detach         0.27%      31.000us         0.27%      31.000us       2.067us           0 b           0 b            15  \n",
      "                 model_inference        24.86%       2.832ms        99.77%      11.366ms      11.366ms          -4 b    -888.14 Kb             1  \n",
      "--------------------------------  ------------  ------------  ------------  ------------  ------------  ------------  ------------  ------------  \n",
      "Self CPU time total: 11.392ms\n",
      "\n"
     ]
    },
    {
     "name": "stderr",
     "output_type": "stream",
     "text": [
      "STAGE:2023-04-28 10:22:15 2718685:2718685 ActivityProfilerController.cpp:294] Completed Stage: Warm Up\n",
      "STAGE:2023-04-28 10:22:15 2718685:2718685 ActivityProfilerController.cpp:300] Completed Stage: Collection\n"
     ]
    }
   ],
   "source": [
    "csp = CSPDarknet(3, 16)\n",
    "dummy = torch.randn(1, 3, 64, 64)#.to(\"cuda:1\")\n",
    "\n",
    "with profile(activities=[ProfilerActivity.CPU], record_shapes=True, profile_memory=True) as prof:\n",
    "    with record_function(\"model_inference\"):\n",
    "        csp(dummy)\n",
    "\n",
    "        \n",
    "print(prof.key_averages().table(sort_by=\"cpu_memory_usage\"))"
   ]
  },
  {
   "cell_type": "code",
   "execution_count": null,
   "id": "1222702a",
   "metadata": {},
   "outputs": [],
   "source": []
  }
 ],
 "metadata": {
  "kernelspec": {
   "display_name": "Python 3 (ipykernel)",
   "language": "python",
   "name": "python3"
  },
  "language_info": {
   "codemirror_mode": {
    "name": "ipython",
    "version": 3
   },
   "file_extension": ".py",
   "mimetype": "text/x-python",
   "name": "python",
   "nbconvert_exporter": "python",
   "pygments_lexer": "ipython3",
   "version": "3.8.10"
  }
 },
 "nbformat": 4,
 "nbformat_minor": 5
}
