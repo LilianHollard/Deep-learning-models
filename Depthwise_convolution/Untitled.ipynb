{
 "cells": [
  {
   "cell_type": "code",
   "execution_count": 11,
   "id": "c7afae91",
   "metadata": {},
   "outputs": [],
   "source": [
    "import torch"
   ]
  },
  {
   "cell_type": "code",
   "execution_count": 12,
   "id": "61462df8",
   "metadata": {},
   "outputs": [],
   "source": [
    "input_ = torch.randn(1, 3, 640, 640)"
   ]
  },
  {
   "cell_type": "code",
   "execution_count": 13,
   "id": "f842ec27",
   "metadata": {},
   "outputs": [
    {
     "data": {
      "text/plain": [
       "torch.Size([1, 32, 160, 160])"
      ]
     },
     "execution_count": 13,
     "metadata": {},
     "output_type": "execute_result"
    }
   ],
   "source": [
    "second_conv = torch.nn.Conv2d(16, 32, 3, 2, 1)\n",
    "model = torch.nn.Sequential(torch.nn.Conv2d(3, 16, 6, 2, 2), second_conv)\n",
    "model(input_).shape"
   ]
  },
  {
   "cell_type": "code",
   "execution_count": 14,
   "id": "1bac187c",
   "metadata": {},
   "outputs": [
    {
     "data": {
      "text/plain": [
       "torch.Size([1, 3, 320, 320])"
      ]
     },
     "execution_count": 14,
     "metadata": {},
     "output_type": "execute_result"
    }
   ],
   "source": [
    "model = torch.nn.Sequential(torch.nn.Conv2d(3, 3, 6, 2, 2, groups=3))\n",
    "model(input_).shape"
   ]
  },
  {
   "cell_type": "code",
   "execution_count": 17,
   "id": "91642c95",
   "metadata": {},
   "outputs": [
    {
     "data": {
      "text/plain": [
       "torch.Size([1, 16, 320, 320])"
      ]
     },
     "execution_count": 17,
     "metadata": {},
     "output_type": "execute_result"
    }
   ],
   "source": [
    "model = torch.nn.Sequential(torch.nn.Conv2d(3, 3, 6, 2, 2, groups=3), torch.nn.Conv2d(3, 16, 1, 1,0))\n",
    "model(input_).shape"
   ]
  },
  {
   "cell_type": "code",
   "execution_count": null,
   "id": "cd7e8ec1",
   "metadata": {},
   "outputs": [],
   "source": []
  }
 ],
 "metadata": {
  "kernelspec": {
   "display_name": "Python 3 (ipykernel)",
   "language": "python",
   "name": "python3"
  },
  "language_info": {
   "codemirror_mode": {
    "name": "ipython",
    "version": 3
   },
   "file_extension": ".py",
   "mimetype": "text/x-python",
   "name": "python",
   "nbconvert_exporter": "python",
   "pygments_lexer": "ipython3",
   "version": "3.8.10"
  }
 },
 "nbformat": 4,
 "nbformat_minor": 5
}
